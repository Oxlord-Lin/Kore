{
 "cells": [
  {
   "cell_type": "markdown",
   "id": "e30651e1",
   "metadata": {
    "papermill": {
     "duration": 0.008514,
     "end_time": "2022-04-12T20:16:55.706539",
     "exception": false,
     "start_time": "2022-04-12T20:16:55.698025",
     "status": "completed"
    },
    "tags": []
   },
   "source": [
    "## Balanced agent\n",
    "\n",
    "This is the code for the \"balanced\" reference agent which you can plan locally against by doing:\n",
    "\n",
    "```\n",
    "env.run([\"main.py\", \"balanced\"])\n",
    "```\n",
    "\n",
    "where main.py has your agent code!"
   ]
  },
  {
   "cell_type": "code",
   "execution_count": null,
   "id": "bc89957d",
   "metadata": {
    "_cell_guid": "b1076dfc-b9ad-4769-8c92-a6c4dae69d19",
    "_uuid": "8f2839f25d086af736a60e9eeb907d3b93b6e0e5",
    "execution": {
     "iopub.execute_input": "2022-04-12T20:16:55.730606Z",
     "iopub.status.busy": "2022-04-12T20:16:55.729602Z",
     "iopub.status.idle": "2022-04-12T20:17:09.058611Z",
     "shell.execute_reply": "2022-04-12T20:17:09.059423Z",
     "shell.execute_reply.started": "2022-04-12T20:09:37.381538Z"
    },
    "papermill": {
     "duration": 13.345743,
     "end_time": "2022-04-12T20:17:09.059806",
     "exception": false,
     "start_time": "2022-04-12T20:16:55.714063",
     "status": "completed"
    },
    "tags": []
   },
   "outputs": [],
   "source": [
    "%%capture\n",
    "# install the latest version of kaggle_environments\n",
    "!pip install --upgrade kaggle_environments"
   ]
  },
  {
   "cell_type": "code",
   "execution_count": null,
   "id": "a995f584",
   "metadata": {
    "execution": {
     "iopub.execute_input": "2022-04-12T20:17:09.078613Z",
     "iopub.status.busy": "2022-04-12T20:17:09.077866Z",
     "iopub.status.idle": "2022-04-12T20:17:09.220340Z",
     "shell.execute_reply": "2022-04-12T20:17:09.220971Z",
     "shell.execute_reply.started": "2022-04-12T20:09:44.755223Z"
    },
    "papermill": {
     "duration": 0.154262,
     "end_time": "2022-04-12T20:17:09.221217",
     "exception": false,
     "start_time": "2022-04-12T20:17:09.066955",
     "status": "completed"
    },
    "tags": []
   },
   "outputs": [],
   "source": [
    "from kaggle_environments import make\n",
    "env = make(\"kore_fleets\", debug=True)\n",
    "print(env.name, env.version)"
   ]
  },
  {
   "cell_type": "code",
   "execution_count": 1,
   "id": "5a58dd97",
   "metadata": {
    "execution": {
     "iopub.execute_input": "2022-04-12T20:17:09.242591Z",
     "iopub.status.busy": "2022-04-12T20:17:09.241304Z",
     "iopub.status.idle": "2022-04-12T20:17:09.253888Z",
     "shell.execute_reply": "2022-04-12T20:17:09.254496Z",
     "shell.execute_reply.started": "2022-04-12T20:16:27.301715Z"
    },
    "papermill": {
     "duration": 0.025743,
     "end_time": "2022-04-12T20:17:09.254724",
     "exception": false,
     "start_time": "2022-04-12T20:17:09.228981",
     "status": "completed"
    },
    "tags": []
   },
   "outputs": [
    {
     "name": "stdout",
     "output_type": "stream",
     "text": [
      "Writing balanced.py\n"
     ]
    }
   ],
   "source": [
    "%%writefile balanced.py\n",
    "\n",
    "import math\n",
    "from random import random, sample, randint\n",
    "\n",
    "from kaggle_environments import utils\n",
    "from kaggle_environments.helpers import Point, Direction\n",
    "from kaggle_environments.envs.kore_fleets.helpers import Board, ShipyardAction\n",
    "\n",
    "# checks a path to see how profitable it is, using net present value to discount \n",
    "# the return time\n",
    "def check_path(board, start, dirs, dist_a, dist_b, collection_rate):\n",
    "    kore = 0\n",
    "    npv = .98\n",
    "    current = start\n",
    "    steps = 2 * (dist_a + dist_b + 2)\n",
    "    for idx, d in enumerate(dirs):\n",
    "        for _ in range((dist_a if idx % 2 == 0 else dist_b) + 1):\n",
    "            current = current.translate(d.to_point(), board.configuration.size)\n",
    "            kore += int((board.cells.get(current).kore or 0) * collection_rate)\n",
    "    return math.pow(npv, steps) * kore / (2 * (dist_a + dist_b + 2))\n",
    "\n",
    "# used to see how much kore is around a spot to potentially put a new shipyard\n",
    "def check_location(board, loc, me):\n",
    "    if board.cells.get(loc).shipyard and board.cells.get(loc).shipyard.player.id == me.id:\n",
    "        return 0\n",
    "    kore = 0\n",
    "    for i in range(-3, 4):\n",
    "        for j in range(-3, 4):\n",
    "            pos = loc.translate(Point(i, j), board.configuration.size)\n",
    "            kore += board.cells.get(pos).kore or 0\n",
    "    return kore\n",
    "\n",
    "def get_closest_enemy_shipyard(board, position, me):\n",
    "    min_dist = 1000000\n",
    "    enemy_shipyard = None\n",
    "    for shipyard in board.shipyards.values():\n",
    "        if shipyard.player_id == me.id:\n",
    "            continue\n",
    "        dist = position.distance_to(shipyard.position, board.configuration.size)\n",
    "        if dist < min_dist:\n",
    "            min_dist = dist\n",
    "            enemy_shipyard = shipyard\n",
    "    return enemy_shipyard\n",
    "    \n",
    "def get_shortest_flight_path_between(position_a, position_b, size, trailing_digits=False):\n",
    "    mag_x = 1 if position_b.x > position_a.x else -1\n",
    "    abs_x = abs(position_b.x - position_a.x)\n",
    "    dir_x = mag_x if abs_x < size/2 else -mag_x\n",
    "    mag_y = 1 if position_b.y > position_a.y else -1\n",
    "    abs_y = abs(position_b.y - position_a.y)\n",
    "    dir_y = mag_y if abs_y < size/2 else -mag_y\n",
    "    flight_path_x = \"\"\n",
    "    if abs_x > 0:\n",
    "        flight_path_x += \"E\" if dir_x == 1 else \"W\"\n",
    "        flight_path_x += str(abs_x - 1) if (abs_x - 1) > 0 else \"\"\n",
    "    flight_path_y = \"\"\n",
    "    if abs_y > 0:\n",
    "        flight_path_y += \"N\" if dir_y == 1 else \"S\"\n",
    "        flight_path_y += str(abs_y - 1) if (abs_y - 1) > 0 else \"\"\n",
    "    if not len(flight_path_x) == len(flight_path_y):\n",
    "        if len(flight_path_x) < len(flight_path_y):\n",
    "            return flight_path_x + (flight_path_y if trailing_digits else flight_path_y[0])\n",
    "        else:\n",
    "            return flight_path_y + (flight_path_x if trailing_digits else flight_path_x[0])\n",
    "    return flight_path_y + (flight_path_x if trailing_digits or not flight_path_x else flight_path_x[0]) if random() < .5 else flight_path_x + (flight_path_y if trailing_digits or not flight_path_y else flight_path_y[0])\n",
    "\n",
    "\n",
    "def balanced_agent(obs, config):\n",
    "    board = Board(obs, config)\n",
    "    me = board.current_player\n",
    "    remaining_kore = me.kore\n",
    "    shipyards = me.shipyards\n",
    "    convert_cost = board.configuration.convert_cost\n",
    "    size = board.configuration.size\n",
    "    spawn_cost = board.configuration.spawn_cost\n",
    "\n",
    "    # randomize shipyard order\n",
    "    shipyards = sample(shipyards, len(shipyards))\n",
    "    for shipyard in shipyards:\n",
    "        closest_enemy_shipyard = get_closest_enemy_shipyard(board, shipyard.position, me)\n",
    "        invading_fleet_size = 100\n",
    "        dist_to_closest_enemy_shipyard = 100 if not closest_enemy_shipyard else shipyard.position.distance_to(closest_enemy_shipyard.position, size)\n",
    "        if closest_enemy_shipyard and (closest_enemy_shipyard.ship_count < 20 or dist_to_closest_enemy_shipyard < 15) and (remaining_kore >= spawn_cost or shipyard.ship_count >= invading_fleet_size):\n",
    "            if shipyard.ship_count >= invading_fleet_size:\n",
    "                flight_plan = get_shortest_flight_path_between(shipyard.position, closest_enemy_shipyard.position, size)\n",
    "                shipyard.next_action = ShipyardAction.launch_fleet_with_flight_plan(invading_fleet_size, flight_plan)\n",
    "            elif remaining_kore >= spawn_cost:\n",
    "                shipyard.next_action = ShipyardAction.spawn_ships(min(shipyard.max_spawn, int(remaining_kore/spawn_cost)))\n",
    "\n",
    "        elif remaining_kore > 500 and shipyard.max_spawn > 5:\n",
    "            if shipyard.ship_count >= convert_cost + 7:\n",
    "                start_dir = randint(0, 3)\n",
    "                next_dir = (start_dir + 1) % 4\n",
    "                best_kore = 0\n",
    "                best_gap1 = 0\n",
    "                best_gap2 = 0\n",
    "                for gap1 in range(5, 15, 3):\n",
    "                    for gap2 in range(5, 15, 3):\n",
    "                        gap2 = randint(3, 9)\n",
    "                        diff1 = Direction.from_index(start_dir).to_point() * gap1\n",
    "                        diff2 = Direction.from_index(next_dir).to_point() * gap2\n",
    "                        diff = diff1 + diff2\n",
    "                        pos = shipyard.position.translate(diff, board.configuration.size)\n",
    "                        h = check_location(board, pos, me)\n",
    "                        if h > best_kore:\n",
    "                            best_kore = h\n",
    "                            best_gap1 = gap1\n",
    "                            best_gap2 = gap2\n",
    "                gap1 = str(best_gap1)\n",
    "                gap2 = str(best_gap2)\n",
    "                flight_plan = Direction.list_directions()[start_dir].to_char() + gap1\n",
    "                flight_plan += Direction.list_directions()[next_dir].to_char() + gap2\n",
    "                flight_plan += \"C\"\n",
    "                shipyard.next_action = ShipyardAction.launch_fleet_with_flight_plan(max(convert_cost + 7, int(shipyard.ship_count/2)), flight_plan)\n",
    "            elif remaining_kore >= spawn_cost:\n",
    "                shipyard.next_action = ShipyardAction.spawn_ships(min(shipyard.max_spawn, int(remaining_kore/spawn_cost)))\n",
    "\n",
    "        # launch a large fleet if able\n",
    "        elif shipyard.ship_count >= 21:\n",
    "            best_h = 0\n",
    "            best_gap1 = 5\n",
    "            best_gap2 = 5\n",
    "            start_dir = board.step % 4\n",
    "            dirs = Direction.list_directions()[start_dir:] + Direction.list_directions()[:start_dir]\n",
    "            for gap1 in range(0, 10):\n",
    "                for gap2 in range(0, 10):\n",
    "                    h = check_path(board, shipyard.position, dirs, gap1, gap2, .2)\n",
    "                    if h > best_h:\n",
    "                        best_h = h\n",
    "                        best_gap1 = gap1\n",
    "                        best_gap2 = gap2\n",
    "            gap1 = str(best_gap1)\n",
    "            gap2 = str(best_gap2)\n",
    "            flight_plan = Direction.list_directions()[start_dir].to_char()\n",
    "            if int(gap1):\n",
    "                flight_plan += gap1\n",
    "            next_dir = (start_dir + 1) % 4\n",
    "            flight_plan += Direction.list_directions()[next_dir].to_char()\n",
    "            if int(gap2):\n",
    "                flight_plan += gap2\n",
    "            next_dir = (next_dir + 1) % 4\n",
    "            flight_plan += Direction.list_directions()[next_dir].to_char()\n",
    "            if int(gap1):\n",
    "                flight_plan += gap1\n",
    "            next_dir = (next_dir + 1) % 4\n",
    "            flight_plan += Direction.list_directions()[next_dir].to_char()\n",
    "            shipyard.next_action = ShipyardAction.launch_fleet_with_flight_plan(21, flight_plan)\n",
    "        # else spawn if possible\n",
    "        elif remaining_kore > board.configuration.spawn_cost * shipyard.max_spawn:\n",
    "            remaining_kore -= board.configuration.spawn_cost\n",
    "            if remaining_kore >= spawn_cost:\n",
    "                shipyard.next_action = ShipyardAction.spawn_ships(min(shipyard.max_spawn, int(remaining_kore/spawn_cost)))\n",
    "    return me.next_actions"
   ]
  },
  {
   "cell_type": "code",
   "execution_count": null,
   "id": "ba068927",
   "metadata": {
    "execution": {
     "iopub.execute_input": "2022-04-12T20:17:09.279612Z",
     "iopub.status.busy": "2022-04-12T20:17:09.278885Z",
     "iopub.status.idle": "2022-04-12T20:17:13.981205Z",
     "shell.execute_reply": "2022-04-12T20:17:13.981727Z",
     "shell.execute_reply.started": "2022-04-12T20:16:28.108789Z"
    },
    "papermill": {
     "duration": 4.719549,
     "end_time": "2022-04-12T20:17:13.981918",
     "exception": false,
     "start_time": "2022-04-12T20:17:09.262369",
     "status": "completed"
    },
    "tags": []
   },
   "outputs": [],
   "source": [
    "env.run([\"balanced.py\", \"do_nothing\"])\n",
    "env.render(mode=\"ipython\", width=1000, height=800)"
   ]
  },
  {
   "cell_type": "code",
   "execution_count": null,
   "id": "856c0ec7",
   "metadata": {},
   "outputs": [],
   "source": []
  }
 ],
 "metadata": {
  "kernelspec": {
   "display_name": "Python 3 (ipykernel)",
   "language": "python",
   "name": "python3"
  },
  "language_info": {
   "codemirror_mode": {
    "name": "ipython",
    "version": 3
   },
   "file_extension": ".py",
   "mimetype": "text/x-python",
   "name": "python",
   "nbconvert_exporter": "python",
   "pygments_lexer": "ipython3",
   "version": "3.11.4"
  },
  "papermill": {
   "default_parameters": {},
   "duration": 30.143509,
   "end_time": "2022-04-12T20:17:15.115590",
   "environment_variables": {},
   "exception": null,
   "input_path": "__notebook__.ipynb",
   "output_path": "__notebook__.ipynb",
   "parameters": {},
   "start_time": "2022-04-12T20:16:44.972081",
   "version": "2.3.3"
  }
 },
 "nbformat": 4,
 "nbformat_minor": 5
}
