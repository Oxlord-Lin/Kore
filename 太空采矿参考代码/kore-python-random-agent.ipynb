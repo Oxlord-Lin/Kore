{
 "cells": [
  {
   "cell_type": "code",
   "execution_count": null,
   "id": "8990f142",
   "metadata": {
    "execution": {
     "iopub.execute_input": "2022-04-12T17:13:56.198754Z",
     "iopub.status.busy": "2022-04-12T17:13:56.196367Z",
     "iopub.status.idle": "2022-04-12T17:14:10.144985Z",
     "shell.execute_reply": "2022-04-12T17:14:10.145513Z",
     "shell.execute_reply.started": "2022-04-12T17:13:16.911529Z"
    },
    "papermill": {
     "duration": 13.962487,
     "end_time": "2022-04-12T17:14:10.145834",
     "exception": false,
     "start_time": "2022-04-12T17:13:56.183347",
     "status": "completed"
    },
    "tags": []
   },
   "outputs": [],
   "source": [
    "%%capture\n",
    "# install the latest version of kaggle_environments\n",
    "!pip install --upgrade kaggle_environments"
   ]
  },
  {
   "cell_type": "markdown",
   "id": "73d1de57",
   "metadata": {
    "papermill": {
     "duration": 0.00753,
     "end_time": "2022-04-12T17:14:10.161457",
     "exception": false,
     "start_time": "2022-04-12T17:14:10.153927",
     "status": "completed"
    },
    "tags": []
   },
   "source": [
    "Import and make the environment, remember to include `debug=True` when running locally to see your agents logs and errors!"
   ]
  },
  {
   "cell_type": "code",
   "execution_count": null,
   "id": "1b80e5bb",
   "metadata": {
    "_cell_guid": "b1076dfc-b9ad-4769-8c92-a6c4dae69d19",
    "_uuid": "8f2839f25d086af736a60e9eeb907d3b93b6e0e5",
    "execution": {
     "iopub.execute_input": "2022-04-12T17:14:10.181825Z",
     "iopub.status.busy": "2022-04-12T17:14:10.180801Z",
     "iopub.status.idle": "2022-04-12T17:14:10.297318Z",
     "shell.execute_reply": "2022-04-12T17:14:10.297940Z",
     "shell.execute_reply.started": "2022-04-12T17:12:42.313056Z"
    },
    "papermill": {
     "duration": 0.129428,
     "end_time": "2022-04-12T17:14:10.298125",
     "exception": false,
     "start_time": "2022-04-12T17:14:10.168697",
     "status": "completed"
    },
    "tags": []
   },
   "outputs": [],
   "source": [
    "from kaggle_environments import make\n",
    "env = make(\"kore_fleets\", debug=True)\n",
    "print(env.name, env.version)"
   ]
  },
  {
   "cell_type": "markdown",
   "id": "89617541",
   "metadata": {
    "papermill": {
     "duration": 0.007367,
     "end_time": "2022-04-12T17:14:10.313579",
     "exception": false,
     "start_time": "2022-04-12T17:14:10.306212",
     "status": "completed"
    },
    "tags": []
   },
   "source": [
    "Code for the random agent, avaliable on [github](https://github.com/Kaggle/kaggle-environments/blob/master/kaggle_environments/envs/kore_fleets/starter_bots/python/main.py) as well\n",
    "\n",
    "(T.A.: Well it's not random actually, but naive anyway _(:з)∠)_)"
   ]
  },
  {
   "cell_type": "code",
   "execution_count": null,
   "id": "6b4740f0",
   "metadata": {
    "execution": {
     "iopub.execute_input": "2022-04-12T17:14:10.333655Z",
     "iopub.status.busy": "2022-04-12T17:14:10.332949Z",
     "iopub.status.idle": "2022-04-12T17:14:10.339823Z",
     "shell.execute_reply": "2022-04-12T17:14:10.340369Z",
     "shell.execute_reply.started": "2022-04-12T17:12:42.432200Z"
    },
    "papermill": {
     "duration": 0.018506,
     "end_time": "2022-04-12T17:14:10.340572",
     "exception": false,
     "start_time": "2022-04-12T17:14:10.322066",
     "status": "completed"
    },
    "tags": []
   },
   "outputs": [],
   "source": [
    "%%writefile naive.py \n",
    "   \n",
    "from kaggle_environments.envs.kore_fleets.helpers import *\n",
    "from random import randint\n",
    "\n",
    "def agent(obs, config):\n",
    "    board = Board(obs, config)\n",
    "    me=board.current_player\n",
    "\n",
    "    me = board.current_player\n",
    "    turn = board.step\n",
    "    spawn_cost = board.configuration.spawn_cost\n",
    "    kore_left = me.kore\n",
    "\n",
    "    for shipyard in me.shipyards:\n",
    "        if shipyard.ship_count > 10:\n",
    "            direction = Direction.from_index(turn % 4)\n",
    "            action = ShipyardAction.launch_fleet_with_flight_plan(2, direction.to_char())\n",
    "            shipyard.next_action = action\n",
    "        elif kore_left > spawn_cost * shipyard.max_spawn:\n",
    "            action = ShipyardAction.spawn_ships(shipyard.max_spawn)\n",
    "            shipyard.next_action = action\n",
    "            kore_left -= spawn_cost * shipyard.max_spawn\n",
    "        elif kore_left > spawn_cost:\n",
    "            action = ShipyardAction.spawn_ships(1)\n",
    "            shipyard.next_action = action\n",
    "            kore_left -= spawn_cost\n",
    "\n",
    "    return me.next_actions"
   ]
  },
  {
   "cell_type": "markdown",
   "id": "913bc938",
   "metadata": {
    "papermill": {
     "duration": 0.007809,
     "end_time": "2022-04-12T17:14:10.356841",
     "exception": false,
     "start_time": "2022-04-12T17:14:10.349032",
     "status": "completed"
    },
    "tags": []
   },
   "source": [
    "The following calls to run and render will play the game, then render the gameboard in this notebook."
   ]
  },
  {
   "cell_type": "code",
   "execution_count": null,
   "id": "c7093434",
   "metadata": {
    "execution": {
     "iopub.execute_input": "2022-04-12T17:14:10.387110Z",
     "iopub.status.busy": "2022-04-12T17:14:10.381490Z",
     "iopub.status.idle": "2022-04-12T17:14:21.989809Z",
     "shell.execute_reply": "2022-04-12T17:14:21.990331Z",
     "shell.execute_reply.started": "2022-04-12T17:12:42.442508Z"
    },
    "papermill": {
     "duration": 11.625685,
     "end_time": "2022-04-12T17:14:21.990521",
     "exception": false,
     "start_time": "2022-04-12T17:14:10.364836",
     "status": "completed"
    },
    "tags": []
   },
   "outputs": [],
   "source": [
    "env.run([\"naive.py\", \"naive.py\"])\n",
    "env.render(mode=\"ipython\", width=1000, height=800)"
   ]
  },
  {
   "cell_type": "code",
   "execution_count": null,
   "id": "9d8eaa6c",
   "metadata": {},
   "outputs": [],
   "source": []
  }
 ],
 "metadata": {
  "kernelspec": {
   "display_name": "Python 3 (ipykernel)",
   "language": "python",
   "name": "python3"
  },
  "language_info": {
   "codemirror_mode": {
    "name": "ipython",
    "version": 3
   },
   "file_extension": ".py",
   "mimetype": "text/x-python",
   "name": "python",
   "nbconvert_exporter": "python",
   "pygments_lexer": "ipython3",
   "version": "3.11.6"
  },
  "papermill": {
   "default_parameters": {},
   "duration": 37.830995,
   "end_time": "2022-04-12T17:14:23.063655",
   "environment_variables": {},
   "exception": null,
   "input_path": "__notebook__.ipynb",
   "output_path": "__notebook__.ipynb",
   "parameters": {},
   "start_time": "2022-04-12T17:13:45.232660",
   "version": "2.3.3"
  }
 },
 "nbformat": 4,
 "nbformat_minor": 5
}
