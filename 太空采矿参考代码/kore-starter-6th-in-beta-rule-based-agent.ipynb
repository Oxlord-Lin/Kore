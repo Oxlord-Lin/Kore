{
 "cells": [
  {
   "cell_type": "markdown",
   "id": "6d76808a",
   "metadata": {
    "_cell_guid": "b1076dfc-b9ad-4769-8c92-a6c4dae69d19",
    "_uuid": "8f2839f25d086af736a60e9eeb907d3b93b6e0e5",
    "execution": {
     "iopub.execute_input": "2022-04-11T22:19:28.712339Z",
     "iopub.status.busy": "2022-04-11T22:19:28.711912Z",
     "iopub.status.idle": "2022-04-11T22:19:28.74379Z",
     "shell.execute_reply": "2022-04-11T22:19:28.742459Z",
     "shell.execute_reply.started": "2022-04-11T22:19:28.712237Z"
    },
    "papermill": {
     "duration": 0.015189,
     "end_time": "2022-04-13T21:23:44.116151",
     "exception": false,
     "start_time": "2022-04-13T21:23:44.100962",
     "status": "completed"
    },
    "tags": []
   },
   "source": [
    "# Kore Fleets - Rule Based Agent 👾\n",
    "\n",
    "This notebook describes a simplified version of the agent I used to place 6th in the Beta competetion. The agent is based on the provided starter bot (https://github.com/Kaggle/kaggle-environments/blob/master/kaggle_environments/envs/kore_fleets/kore_fleets.py). This notebook is aimed to help people get started in the competetion and potentially provide some initial insights into the game! It is still a work in progress so please let me know if you spot any bugs or have any code improvements to recommend. If you find it useful give it a thumbs up 🤙\n",
    "\n",
    "\n",
    "\n",
    "<div align = 'center'><img src= \"https://lh3.googleusercontent.com/YGJ77qN9KiwctZgfqV8Bf3hNo0rZvcFaPKDTkvtS6kVbtwyCS80Pm6dpXzJCCLZE1Q\" alt =\"H & M\" style='width: 3000px;height 1000px'>\n",
    "    \n",
    "### Contents:\n",
    "\n",
    "[Helpers 🤝](#first-bullet)\n",
    " This consists of extra helper functions. This includes simple functions to calculate the shortest flight path between two points and the total number of ships for a given player. It also provides functions to calculate the maximum length of a flight plan given a fleet size (and vice versa) as well as a function to calulate the collection rate for a given fleet size. Examples of these calculations can be found in the kore rules (https://www.kaggle.com/competitions/kore-2022/overview/kore-rules) but these functions provide precise calculations for all fleet sizes. \n",
    "    \n",
    "The simple agent works by checking if it should take the following actions. The priority of these actions are ordered as shown below. This is executed for each shipyard independently.\n",
    "    \n",
    "[Defend 🛡](#second-bullet) If a large enemy fleet is near a shipyard the main objective is to defend. This is done by building more ships if possible.\n",
    "  \n",
    "[Attack 🧨](#third-bullet) If a shipyard has enough ships to attack a nearby enemy shipyard it should attack or start building more ships to attack.\n",
    "    \n",
    "[Build 🧱](#fourth-bullet) If the player has enough Kore and the shipyards `spawn maximum` is large enough the shipyard should expand. This expansion is to a nearby location maximising surrounding kore but away from enemy shipyards.\n",
    "\n",
    "[Mine ⛏](#fith-bullet) The agent uses 3 mining tactics..\n",
    "    \n",
    "1. A simple 'circle'. This will have a flight path of length 7 (e.g. `\"N5E5W5S\"`) requiring a fleet size of 21.\n",
    "    \n",
    "2. A 'rectangle'. This is similar as above but has a gap of 0 on two sides. This allows the flight path and, as a result, the fleet size to be much smaller. For example the flight path `\"NE5WS\"` (length 5) only requires a fleet size of 8.\n",
    "    \n",
    "3. The final route is an 'L' shape (I first saw this in the beta by @robga). This involves leaving the shipyard in an L shape and coming back along the same route. An example fligth path is `\"N6E6W6S\"` which requires a fleet size of 21.\n",
    "    \n",
    "The agent looks at all possible mining routes and calculates which path mines the most kore per ship in the fleet.\n",
    "    \n",
    "[Spawn Ships 🚀](#sixth-bullet) If the shipyard has enough kore it will spawn the maximum number of ships.\n",
    "   \n",
    "[Replay and submission 🎥](#seventh-bullet) This shows the agent vs a baseline bot."
   ]
  },
  {
   "cell_type": "markdown",
   "id": "d7b4f0fe",
   "metadata": {
    "papermill": {
     "duration": 0.014134,
     "end_time": "2022-04-13T21:23:44.145153",
     "exception": false,
     "start_time": "2022-04-13T21:23:44.131019",
     "status": "completed"
    },
    "tags": []
   },
   "source": [
    "### Helpers"
   ]
  },
  {
   "cell_type": "code",
   "execution_count": 1,
   "id": "dfb017d2",
   "metadata": {
    "execution": {
     "iopub.execute_input": "2022-04-13T21:23:44.181728Z",
     "iopub.status.busy": "2022-04-13T21:23:44.176185Z",
     "iopub.status.idle": "2022-04-13T21:23:44.188756Z",
     "shell.execute_reply": "2022-04-13T21:23:44.189202Z",
     "shell.execute_reply.started": "2022-04-13T21:03:07.682968Z"
    },
    "papermill": {
     "duration": 0.030187,
     "end_time": "2022-04-13T21:23:44.189509",
     "exception": false,
     "start_time": "2022-04-13T21:23:44.159322",
     "status": "completed"
    },
    "tags": []
   },
   "outputs": [
    {
     "name": "stdout",
     "output_type": "stream",
     "text": [
      "Writing extra_helpers.py\n"
     ]
    }
   ],
   "source": [
    "%%writefile extra_helpers.py\n",
    "\n",
    "from kaggle_environments.envs.kore_fleets.helpers import *\n",
    "from random import choice, randint, randrange, sample, seed, random\n",
    "\n",
    "def get_col_row(size, pos):\n",
    "    return pos % size, pos // size\n",
    "\n",
    "def get_to_pos(size, pos, direction):\n",
    "    col, row = get_col_row(size, pos)\n",
    "    if direction == \"NORTH\":\n",
    "        return pos - size if pos >= size else size ** 2 - size + col\n",
    "    elif direction == \"SOUTH\":\n",
    "        return col if pos + size >= size ** 2 else pos + size\n",
    "    elif direction == \"EAST\":\n",
    "        return pos + 1 if col < size - 1 else row * size\n",
    "    elif direction == \"WEST\":\n",
    "        return pos - 1 if col > 0 else (row + 1) * size - 1\n",
    "    \n",
    "def get_shortest_flight_path_between(position_a, position_b, size, trailing_digits=False):\n",
    "    mag_x = 1 if position_b.x > position_a.x else -1\n",
    "    abs_x = abs(position_b.x - position_a.x)\n",
    "    dir_x = mag_x if abs_x < size/2 else -mag_x\n",
    "    mag_y = 1 if position_b.y > position_a.y else -1\n",
    "    abs_y = abs(position_b.y - position_a.y)\n",
    "    dir_y = mag_y if abs_y < size/2 else -mag_y\n",
    "    flight_path_x = \"\"\n",
    "    if abs_x > 0:\n",
    "        flight_path_x += \"E\" if dir_x == 1 else \"W\"\n",
    "        flight_path_x += str(abs_x - 1) if (abs_x - 1) > 0 else \"\"\n",
    "    flight_path_y = \"\"\n",
    "    if abs_y > 0:\n",
    "        flight_path_y += \"N\" if dir_y == 1 else \"S\"\n",
    "        flight_path_y += str(abs_y - 1) if (abs_y - 1) > 0 else \"\"\n",
    "    if not len(flight_path_x) == len(flight_path_y):\n",
    "        if len(flight_path_x) < len(flight_path_y):\n",
    "            return flight_path_x + (flight_path_y if trailing_digits else flight_path_y[0])\n",
    "        else:\n",
    "            return flight_path_y + (flight_path_x if trailing_digits else flight_path_x[0])\n",
    "    return flight_path_y + (flight_path_x if trailing_digits or not flight_path_x else flight_path_x[0]) if random() < .5 else flight_path_x + (flight_path_y if trailing_digits or not flight_path_y else flight_path_y[0])\n",
    "\n",
    "def get_total_ships(board, player):\n",
    "    ships = 0\n",
    "    for fleet in board.fleets.values():\n",
    "        if fleet.player_id == player:\n",
    "            ships += fleet.ship_count\n",
    "    for shipyard in board.shipyards.values():\n",
    "        if shipyard.player_id == player:\n",
    "            ships += shipyard.ship_count\n",
    "    return ships    \n",
    "\n",
    "# ref @egrehbbt \n",
    "def max_flight_plan_len_for_ship_count(ship_count):\n",
    "    return math.floor(2 * math.log(ship_count)) + 1\n",
    "\n",
    "# ref @egrehbbt \n",
    "def min_ship_count_for_flight_plan_len(flight_plan_len):\n",
    "    return math.ceil(math.exp((flight_plan_len - 1) / 2))\n",
    "\n",
    "# ref @egrehbbt \n",
    "def collection_rate_for_ship_count(ship_count):\n",
    "    return min(math.log(ship_count) / 20, 0.99)\n",
    "\n",
    "def spawn_ships(shipyard, remaining_kore, spawn_cost):\n",
    "    return ShipyardAction.spawn_ships(min(shipyard.max_spawn, int(remaining_kore/spawn_cost)))"
   ]
  },
  {
   "cell_type": "markdown",
   "id": "1e7bbf1a",
   "metadata": {
    "papermill": {
     "duration": 0.013997,
     "end_time": "2022-04-13T21:23:44.218594",
     "exception": false,
     "start_time": "2022-04-13T21:23:44.204597",
     "status": "completed"
    },
    "tags": []
   },
   "source": [
    "### Defence"
   ]
  },
  {
   "cell_type": "code",
   "execution_count": 2,
   "id": "a11d7d2b",
   "metadata": {
    "execution": {
     "iopub.execute_input": "2022-04-13T21:23:44.249402Z",
     "iopub.status.busy": "2022-04-13T21:23:44.248919Z",
     "iopub.status.idle": "2022-04-13T21:23:44.254475Z",
     "shell.execute_reply": "2022-04-13T21:23:44.254884Z",
     "shell.execute_reply.started": "2022-04-13T21:03:07.789461Z"
    },
    "papermill": {
     "duration": 0.022525,
     "end_time": "2022-04-13T21:23:44.255026",
     "exception": false,
     "start_time": "2022-04-13T21:23:44.232501",
     "status": "completed"
    },
    "tags": []
   },
   "outputs": [
    {
     "name": "stdout",
     "output_type": "stream",
     "text": [
      "Writing defend.py\n"
     ]
    }
   ],
   "source": [
    "%%writefile defend.py\n",
    "\n",
    "from kaggle_environments.envs.kore_fleets.helpers import *\n",
    "\n",
    "def should_defend(board, me, shipyard, radius=7):\n",
    "    loc = shipyard.position\n",
    "    for i in range(1-radius, radius):\n",
    "        for j in range(1-radius, radius):\n",
    "            pos = loc.translate(Point(i, j), board.configuration.size)\n",
    "            if ((board.cells.get(pos).fleet is not None) \n",
    "                and (board.cells.get(pos).fleet.ship_count > 50)\n",
    "                and (board.cells.get(pos).fleet.player_id!=me.id)\n",
    "                and ((board.cells.get(pos).fleet.ship_count) > shipyard.ship_count)):\n",
    "                return True               \n",
    "    return False"
   ]
  },
  {
   "cell_type": "markdown",
   "id": "d8e86616",
   "metadata": {
    "papermill": {
     "duration": 0.014273,
     "end_time": "2022-04-13T21:23:44.284628",
     "exception": false,
     "start_time": "2022-04-13T21:23:44.270355",
     "status": "completed"
    },
    "tags": []
   },
   "source": [
    "### Attack"
   ]
  },
  {
   "cell_type": "code",
   "execution_count": 3,
   "id": "6ded53ed",
   "metadata": {
    "execution": {
     "iopub.execute_input": "2022-04-13T21:23:44.322972Z",
     "iopub.status.busy": "2022-04-13T21:23:44.322204Z",
     "iopub.status.idle": "2022-04-13T21:23:44.326551Z",
     "shell.execute_reply": "2022-04-13T21:23:44.325922Z",
     "shell.execute_reply.started": "2022-04-13T21:03:07.796408Z"
    },
    "papermill": {
     "duration": 0.027766,
     "end_time": "2022-04-13T21:23:44.326704",
     "exception": false,
     "start_time": "2022-04-13T21:23:44.298938",
     "status": "completed"
    },
    "tags": []
   },
   "outputs": [
    {
     "name": "stdout",
     "output_type": "stream",
     "text": [
      "Writing attack.py\n"
     ]
    }
   ],
   "source": [
    "%%writefile attack.py\n",
    "\n",
    "from kaggle_environments.envs.kore_fleets.helpers import *\n",
    "\n",
    "def should_attack(board, shipyard, remaining_kore, spawn_cost, invading_fleet_size):\n",
    "            closest_enemy_shipyard = get_closest_enemy_shipyard(board, shipyard.position, board.current_player)\n",
    "            dist_to_closest_enemy_shipyard = 100 if not closest_enemy_shipyard else shipyard.position.distance_to(closest_enemy_shipyard.position, board.configuration.size)\n",
    "            if (closest_enemy_shipyard \n",
    "                and (closest_enemy_shipyard.ship_count < 20 or dist_to_closest_enemy_shipyard < 15) \n",
    "                and (remaining_kore >= spawn_cost or shipyard.ship_count >= invading_fleet_size) \n",
    "                and (board.step > 300 or dist_to_closest_enemy_shipyard < 12)):\n",
    "                return True\n",
    "            return False\n",
    "\n",
    "def get_closest_enemy_shipyard(board, position, me):\n",
    "    min_dist = 1000000\n",
    "    enemy_shipyard = None\n",
    "    for shipyard in board.shipyards.values():\n",
    "        if shipyard.player_id == me.id:\n",
    "            continue\n",
    "        dist = position.distance_to(shipyard.position, board.configuration.size)\n",
    "        if dist < min_dist:\n",
    "            min_dist = dist\n",
    "            enemy_shipyard = shipyard\n",
    "    return enemy_shipyard\n",
    "\n"
   ]
  },
  {
   "cell_type": "markdown",
   "id": "5e49fcf2",
   "metadata": {
    "papermill": {
     "duration": 0.021749,
     "end_time": "2022-04-13T21:23:44.370678",
     "exception": false,
     "start_time": "2022-04-13T21:23:44.348929",
     "status": "completed"
    },
    "tags": []
   },
   "source": [
    "### Build"
   ]
  },
  {
   "cell_type": "code",
   "execution_count": 4,
   "id": "e52d95b9",
   "metadata": {
    "execution": {
     "iopub.execute_input": "2022-04-13T21:23:44.423092Z",
     "iopub.status.busy": "2022-04-13T21:23:44.422367Z",
     "iopub.status.idle": "2022-04-13T21:23:44.425155Z",
     "shell.execute_reply": "2022-04-13T21:23:44.425561Z",
     "shell.execute_reply.started": "2022-04-13T21:03:07.811293Z"
    },
    "papermill": {
     "duration": 0.032374,
     "end_time": "2022-04-13T21:23:44.425709",
     "exception": false,
     "start_time": "2022-04-13T21:23:44.393335",
     "status": "completed"
    },
    "tags": []
   },
   "outputs": [
    {
     "name": "stdout",
     "output_type": "stream",
     "text": [
      "Writing build.py\n"
     ]
    }
   ],
   "source": [
    "%%writefile build.py\n",
    "\n",
    "from kaggle_environments.envs.kore_fleets.helpers import *\n",
    "\n",
    "def should_build(shipyard, remaining_kore):\n",
    "    if remaining_kore > 500 and shipyard.max_spawn > 5:\n",
    "        return True\n",
    "    return False\n",
    "\n",
    "def check_location(board, loc, me):\n",
    "    if board.cells.get(loc).shipyard and board.cells.get(loc).shipyard.player.id == me.id:\n",
    "        return 0\n",
    "    kore = 0\n",
    "    for i in range(-6, 7):\n",
    "        for j in range(-6, 7):\n",
    "            pos = loc.translate(Point(i, j), board.configuration.size)\n",
    "            kore += board.cells.get(pos).kore or 0\n",
    "    return kore\n",
    "\n",
    "def build_new_shipyard(shipyard, board, me, convert_cost, search_radius=3):\n",
    "    best_dir = 0\n",
    "    best_kore = 0\n",
    "    best_gap1 = 0\n",
    "    best_gap2 = 0\n",
    "    for i in range(4):\n",
    "        next_dir = (i + 1) % 4\n",
    "        for gap1 in range(0, search_radius, 1):\n",
    "            for gap2 in range(0, search_radius, 1):\n",
    "                enemy_shipyard_close = False\n",
    "                diff1 = Direction.from_index(i).to_point() * gap1\n",
    "                diff2 = Direction.from_index(next_dir).to_point() * gap2\n",
    "                diff = diff1 + diff2\n",
    "                pos = shipyard.position.translate(diff, board.configuration.size)\n",
    "                for shipyard in board.shipyards.values():\n",
    "                    if ((shipyard.player_id != me.id)\n",
    "                        and (pos.distance_to(shipyard.position, board.configuration.size) < 4)):\n",
    "                        enemy_shipyard_close = True\n",
    "                if enemy_shipyard_close:\n",
    "                    continue\n",
    "                h = check_location(board, pos, me)\n",
    "                if h > best_kore:\n",
    "                    best_kore = h\n",
    "                    best_gap1 = gap1\n",
    "                    best_gap2 = gap2\n",
    "                    best_dir = i\n",
    "    gap1 = str(best_gap1)\n",
    "    gap2 = str(best_gap2)\n",
    "    next_dir = (best_dir + 1) % 4\n",
    "    flight_plan = Direction.list_directions()[best_dir].to_char() + gap1\n",
    "    flight_plan += Direction.list_directions()[next_dir].to_char() + gap2\n",
    "    flight_plan += \"C\"\n",
    "    return ShipyardAction.launch_fleet_with_flight_plan(max(convert_cost + 30, int(shipyard.ship_count/2)), flight_plan)"
   ]
  },
  {
   "cell_type": "markdown",
   "id": "b036a2fb",
   "metadata": {
    "papermill": {
     "duration": 0.01518,
     "end_time": "2022-04-13T21:23:44.456463",
     "exception": false,
     "start_time": "2022-04-13T21:23:44.441283",
     "status": "completed"
    },
    "tags": []
   },
   "source": [
    "### Mining"
   ]
  },
  {
   "cell_type": "code",
   "execution_count": 5,
   "id": "883b9c4f",
   "metadata": {
    "execution": {
     "iopub.execute_input": "2022-04-13T21:23:44.491340Z",
     "iopub.status.busy": "2022-04-13T21:23:44.490591Z",
     "iopub.status.idle": "2022-04-13T21:23:44.502335Z",
     "shell.execute_reply": "2022-04-13T21:23:44.501642Z",
     "shell.execute_reply.started": "2022-04-13T21:03:07.829566Z"
    },
    "papermill": {
     "duration": 0.030356,
     "end_time": "2022-04-13T21:23:44.502514",
     "exception": false,
     "start_time": "2022-04-13T21:23:44.472158",
     "status": "completed"
    },
    "tags": []
   },
   "outputs": [
    {
     "name": "stdout",
     "output_type": "stream",
     "text": [
      "Writing mine.py\n"
     ]
    }
   ],
   "source": [
    "%%writefile mine.py\n",
    "\n",
    "from kaggle_environments.envs.kore_fleets.helpers import *\n",
    "from extra_helpers import *\n",
    "\n",
    "def should_mine(shipyard, best_fleet_size):\n",
    "    if shipyard.ship_count >= best_fleet_size:\n",
    "        return True\n",
    "    return False\n",
    "\n",
    "def check_path(board, start, dirs, dist_a, dist_b, collection_rate, L=False):\n",
    "    kore = 0\n",
    "    npv = .99\n",
    "    current = start\n",
    "    steps = 2 * (dist_a + dist_b + 2)\n",
    "    for idx, d in enumerate(dirs):\n",
    "        if L and idx==2:\n",
    "            break\n",
    "        for _ in range((dist_a if idx % 2 == 0 else dist_b) + 1):\n",
    "            current = current.translate(d.to_point(), board.configuration.size)\n",
    "            kore += int((board.cells.get(current).kore or 0) * collection_rate)\n",
    "            final_kore = int((board.cells.get(current).kore or 0) * collection_rate)\n",
    "    if L: kore = (kore) + (kore*(1-collection_rate)) - final_kore\n",
    "    return math.pow(npv, steps) * kore / steps\n",
    "\n",
    "def get_circular_flight_plan(gap1, gap2, start_dir):\n",
    "    flight_plan = Direction.list_directions()[start_dir].to_char()\n",
    "    if int(gap1):\n",
    "        flight_plan += gap1\n",
    "    next_dir = (start_dir + 1) % 4\n",
    "    flight_plan += Direction.list_directions()[next_dir].to_char()\n",
    "    if int(gap2):\n",
    "        flight_plan += gap2\n",
    "    next_dir = (next_dir + 1) % 4\n",
    "    flight_plan += Direction.list_directions()[next_dir].to_char()\n",
    "    if int(gap1):\n",
    "        flight_plan += gap1\n",
    "    next_dir = (next_dir + 1) % 4\n",
    "    flight_plan += Direction.list_directions()[next_dir].to_char()\n",
    "    return flight_plan\n",
    "\n",
    "def get_L_flight_plan(gap1, gap2, start_dir):\n",
    "    flight_plan = Direction.list_directions()[start_dir].to_char()\n",
    "    if int(gap1):\n",
    "        flight_plan += gap1\n",
    "    next_dir = (start_dir + 1) % 4\n",
    "    flight_plan += Direction.list_directions()[next_dir].to_char()\n",
    "    if int(gap2):\n",
    "        flight_plan += gap2\n",
    "    next_dir = (next_dir + 2) % 4\n",
    "    flight_plan += Direction.list_directions()[next_dir].to_char()\n",
    "    if int(gap2):\n",
    "        flight_plan += gap2\n",
    "    next_dir = (next_dir - 1) % 4\n",
    "    flight_plan += Direction.list_directions()[next_dir].to_char()\n",
    "    return flight_plan\n",
    "\n",
    "def get_rectangle_flight_plan(gap, start_dir):\n",
    "    flight_plan = Direction.list_directions()[start_dir].to_char()\n",
    "    next_dir = (start_dir + 1) % 4\n",
    "    flight_plan += Direction.list_directions()[next_dir].to_char()\n",
    "    if int(gap):\n",
    "        flight_plan += gap\n",
    "    next_dir = (next_dir + 1) % 4\n",
    "    flight_plan += Direction.list_directions()[next_dir].to_char()\n",
    "    next_dir = (next_dir + 1) % 4\n",
    "    flight_plan += Direction.list_directions()[next_dir].to_char()\n",
    "    return flight_plan\n",
    "\n",
    "def check_flight_paths(board, shipyard, search_radius):\n",
    "    best_h = 0\n",
    "    best_gap1 = 1\n",
    "    best_gap2 = 1\n",
    "    best_dir = board.step % 4\n",
    "    for i in range(4):\n",
    "        dirs = Direction.list_directions()[i:] + Direction.list_directions()[:i]\n",
    "        for gap1 in range(0, search_radius):\n",
    "            for gap2 in range(0, search_radius):\n",
    "                fleet_size = min_ship_count_for_flight_plan_len(7)\n",
    "                h = check_path(board, shipyard.position, dirs, gap1, gap2, collection_rate_for_ship_count(fleet_size), L=False)\n",
    "                if h/fleet_size > best_h:\n",
    "                    best_h = h/fleet_size\n",
    "                    best_flight_plan = get_circular_flight_plan(str(gap1), str(gap2), i)\n",
    "                    best_fleet_size = fleet_size\n",
    "                h = check_path(board, shipyard.position, dirs, gap1, gap2, collection_rate_for_ship_count(collection_rate_for_ship_count(fleet_size)), L=True)\n",
    "                if h/fleet_size > best_h:\n",
    "                    best_h = h/fleet_size\n",
    "                    best_flight_plan = get_L_flight_plan(str(gap1), str(gap2), i)\n",
    "                    best_fleet_size = fleet_size\n",
    "                if gap1!=0:\n",
    "                    continue\n",
    "                fleet_size = min_ship_count_for_flight_plan_len(5)\n",
    "                h = check_path(board, shipyard.position, dirs, gap1, gap2, collection_rate_for_ship_count(fleet_size), L=False)\n",
    "                if h/fleet_size > best_h:\n",
    "                    best_h = h/fleet_size\n",
    "                    best_flight_plan = get_rectangle_flight_plan(str(gap2), i)\n",
    "                    best_fleet_size = fleet_size    \n",
    "    return best_fleet_size, best_flight_plan                   "
   ]
  },
  {
   "cell_type": "code",
   "execution_count": 6,
   "id": "94a32269",
   "metadata": {
    "execution": {
     "iopub.execute_input": "2022-04-13T21:23:44.556721Z",
     "iopub.status.busy": "2022-04-13T21:23:44.555967Z",
     "iopub.status.idle": "2022-04-13T21:23:44.558853Z",
     "shell.execute_reply": "2022-04-13T21:23:44.559451Z",
     "shell.execute_reply.started": "2022-04-13T21:03:07.847356Z"
    },
    "papermill": {
     "duration": 0.033699,
     "end_time": "2022-04-13T21:23:44.559648",
     "exception": false,
     "start_time": "2022-04-13T21:23:44.525949",
     "status": "completed"
    },
    "tags": []
   },
   "outputs": [
    {
     "name": "stdout",
     "output_type": "stream",
     "text": [
      "Writing defenser.py\n"
     ]
    }
   ],
   "source": [
    "%%writefile defenser.py\n",
    "\n",
    "from kaggle_environments.envs.kore_fleets.helpers import *\n",
    "from extra_helpers import *\n",
    "from defend import *\n",
    "from attack import *\n",
    "from build import *\n",
    "from mine import *\n",
    "from random import randint\n",
    "import itertools\n",
    "import numpy as np\n",
    "from random import choice, randint, randrange, sample, seed, random\n",
    "import math\n",
    "\n",
    "def agent(obs, config):\n",
    "    \n",
    "    board = Board(obs, config)\n",
    "    me = board.current_player\n",
    "    remaining_kore = me.kore\n",
    "    shipyards = me.shipyards\n",
    "    convert_cost = board.configuration.convert_cost\n",
    "    size = board.configuration.size\n",
    "    spawn_cost = board.configuration.spawn_cost\n",
    "    turn = board.step\n",
    "    \n",
    "    invading_fleet_size = 75\n",
    "    convert_cost_buffer = 80\n",
    "    mining_search_radius = 10\n",
    "    defence_radius = 7\n",
    "    \n",
    "    shipyards = sample(shipyards, len(shipyards))\n",
    "    for shipyard in shipyards:\n",
    "        \n",
    "        best_fleet_size, best_flight_plan = check_flight_paths(board, shipyard, mining_search_radius) \n",
    "        \n",
    "        if should_defend(board, me, shipyard, defence_radius):\n",
    "            if remaining_kore >= spawn_cost:\n",
    "                shipyard.next_action = spawn_ships(shipyard, remaining_kore, spawn_cost)\n",
    "                \n",
    "        elif should_attack(board, shipyard, remaining_kore, spawn_cost, invading_fleet_size):\n",
    "            if shipyard.ship_count >= invading_fleet_size:\n",
    "                    closest_enemy_shipyard = get_closest_enemy_shipyard(board, shipyard.position, board.current_player)\n",
    "                    flight_plan = get_shortest_flight_path_between(shipyard.position, closest_enemy_shipyard.position, size)\n",
    "                    shipyard.next_action = ShipyardAction.launch_fleet_with_flight_plan(invading_fleet_size, flight_plan)\n",
    "            elif remaining_kore >= spawn_cost:\n",
    "                shipyard.next_action = spawn_ships(shipyard, remaining_kore, spawn_cost)\n",
    "\n",
    "        elif should_build(shipyard, remaining_kore):\n",
    "            if shipyard.ship_count >= convert_cost + convert_cost_buffer:\n",
    "                shipyard.next_action = build_new_shipyard(shipyard, board, me, convert_cost)\n",
    "            elif remaining_kore >= spawn_cost:\n",
    "                shipyard.next_action = spawn_ships(shipyard, remaining_kore, spawn_cost)\n",
    "                \n",
    "        elif should_mine(shipyard, best_fleet_size):\n",
    "            shipyard.next_action = ShipyardAction.launch_fleet_with_flight_plan(best_fleet_size, best_flight_plan)\n",
    "        \n",
    "        elif (remaining_kore > spawn_cost):\n",
    "            shipyard.next_action = spawn_ships(shipyard, remaining_kore, spawn_cost)\n",
    "        \n",
    "        elif (len(me.fleet_ids) == 0 and shipyard.ship_count <= 22) and len(shipyards)==1:\n",
    "            if remaining_kore > 11:\n",
    "                shipyard.next_action = spawn_ships(shipyard, remaining_kore, spawn_cost)\n",
    "            else:\n",
    "                direction = Direction.NORTH\n",
    "                if shipyard.ship_count > 0:\n",
    "                    shipyard.next_action = ShipyardAction.launch_fleet_with_flight_plan(shipyard.ship_count, direction.to_char())\n",
    "                \n",
    "    return me.next_actions\n"
   ]
  },
  {
   "cell_type": "markdown",
   "id": "c2291080",
   "metadata": {
    "papermill": {
     "duration": 0.024634,
     "end_time": "2022-04-13T21:23:44.609123",
     "exception": false,
     "start_time": "2022-04-13T21:23:44.584489",
     "status": "completed"
    },
    "tags": []
   },
   "source": [
    "### Replay vs baseline bot 🎥"
   ]
  },
  {
   "cell_type": "code",
   "execution_count": 7,
   "id": "8dbd537f",
   "metadata": {
    "execution": {
     "iopub.execute_input": "2022-04-13T21:23:44.666863Z",
     "iopub.status.busy": "2022-04-13T21:23:44.666091Z",
     "iopub.status.idle": "2022-04-13T21:23:57.688896Z",
     "shell.execute_reply": "2022-04-13T21:23:57.688432Z",
     "shell.execute_reply.started": "2022-04-13T21:17:08.524373Z"
    },
    "papermill": {
     "duration": 13.054889,
     "end_time": "2022-04-13T21:23:57.689017",
     "exception": false,
     "start_time": "2022-04-13T21:23:44.634128",
     "status": "completed"
    },
    "tags": []
   },
   "outputs": [
    {
     "name": "stdout",
     "output_type": "stream",
     "text": [
      "^C\n"
     ]
    },
    {
     "name": "stderr",
     "output_type": "stream",
     "text": [
      "WARNING: Skipping F:\\anaconda3\\Lib\\site-packages\\vtk-9.0.3.egg-info due to invalid metadata entry 'name'\n",
      "WARNING: Skipping F:\\anaconda3\\Lib\\site-packages\\vtk-9.0.3.egg-info due to invalid metadata entry 'name'\n"
     ]
    },
    {
     "name": "stdout",
     "output_type": "stream",
     "text": [
      "Requirement already satisfied: kaggle-environments in f:\\anaconda3\\lib\\site-packages (1.14.3)\n",
      "Requirement already satisfied: Flask>=1.1.2 in f:\\anaconda3\\lib\\site-packages (from kaggle-environments) (2.2.2)\n",
      "Requirement already satisfied: gymnasium==0.29.0 in f:\\anaconda3\\lib\\site-packages (from kaggle-environments) (0.29.0)\n",
      "Requirement already satisfied: jsonschema>=3.0.1 in f:\\anaconda3\\lib\\site-packages (from kaggle-environments) (4.17.3)\n",
      "Requirement already satisfied: numpy>=1.19.5 in f:\\anaconda3\\lib\\site-packages (from kaggle-environments) (1.24.3)\n",
      "Requirement already satisfied: pettingzoo==1.24.0 in f:\\anaconda3\\lib\\site-packages (from kaggle-environments) (1.24.0)\n",
      "Requirement already satisfied: requests>=2.25.1 in f:\\anaconda3\\lib\\site-packages (from kaggle-environments) (2.31.0)\n",
      "Requirement already satisfied: scipy>=1.11.2 in f:\\anaconda3\\lib\\site-packages (from kaggle-environments) (1.11.3)\n",
      "Requirement already satisfied: shimmy>=1.2.1 in f:\\anaconda3\\lib\\site-packages (from kaggle-environments) (1.2.1)\n",
      "Requirement already satisfied: stable-baselines3==2.1.0 in f:\\anaconda3\\lib\\site-packages (from kaggle-environments) (2.1.0)\n",
      "Requirement already satisfied: transformers>=4.33.1 in f:\\anaconda3\\lib\\site-packages (from kaggle-environments) (4.34.0)\n",
      "Requirement already satisfied: vec-noise>=1.1.4 in f:\\anaconda3\\lib\\site-packages (from kaggle-environments) (1.1.4)\n",
      "Requirement already satisfied: cloudpickle>=1.2.0 in f:\\anaconda3\\lib\\site-packages (from gymnasium==0.29.0->kaggle-environments) (2.2.1)\n",
      "Requirement already satisfied: typing-extensions>=4.3.0 in f:\\anaconda3\\lib\\site-packages (from gymnasium==0.29.0->kaggle-environments) (4.7.1)\n",
      "Requirement already satisfied: farama-notifications>=0.0.1 in f:\\anaconda3\\lib\\site-packages (from gymnasium==0.29.0->kaggle-environments) (0.0.4)\n",
      "Requirement already satisfied: torch>=1.13 in f:\\anaconda3\\lib\\site-packages (from stable-baselines3==2.1.0->kaggle-environments) (2.1.0)\n",
      "Requirement already satisfied: pandas in f:\\anaconda3\\lib\\site-packages (from stable-baselines3==2.1.0->kaggle-environments) (1.5.3)\n",
      "Requirement already satisfied: matplotlib in f:\\anaconda3\\lib\\site-packages (from stable-baselines3==2.1.0->kaggle-environments) (3.7.1)\n",
      "Requirement already satisfied: Werkzeug>=2.2.2 in f:\\anaconda3\\lib\\site-packages (from Flask>=1.1.2->kaggle-environments) (2.2.3)\n",
      "Requirement already satisfied: Jinja2>=3.0 in f:\\anaconda3\\lib\\site-packages (from Flask>=1.1.2->kaggle-environments) (3.1.2)\n",
      "Requirement already satisfied: itsdangerous>=2.0 in f:\\anaconda3\\lib\\site-packages (from Flask>=1.1.2->kaggle-environments) (2.0.1)\n",
      "Requirement already satisfied: click>=8.0 in f:\\anaconda3\\lib\\site-packages (from Flask>=1.1.2->kaggle-environments) (8.0.4)\n",
      "Requirement already satisfied: attrs>=17.4.0 in f:\\anaconda3\\lib\\site-packages (from jsonschema>=3.0.1->kaggle-environments) (22.1.0)\n",
      "Requirement already satisfied: pyrsistent!=0.17.0,!=0.17.1,!=0.17.2,>=0.14.0 in f:\\anaconda3\\lib\\site-packages (from jsonschema>=3.0.1->kaggle-environments) (0.18.0)\n",
      "Requirement already satisfied: charset-normalizer<4,>=2 in f:\\anaconda3\\lib\\site-packages (from requests>=2.25.1->kaggle-environments) (2.0.4)\n",
      "Requirement already satisfied: idna<4,>=2.5 in f:\\anaconda3\\lib\\site-packages (from requests>=2.25.1->kaggle-environments) (3.4)\n",
      "Requirement already satisfied: urllib3<3,>=1.21.1 in f:\\anaconda3\\lib\\site-packages (from requests>=2.25.1->kaggle-environments) (1.26.16)\n",
      "Requirement already satisfied: certifi>=2017.4.17 in f:\\anaconda3\\lib\\site-packages (from requests>=2.25.1->kaggle-environments) (2020.6.20)\n",
      "Requirement already satisfied: filelock in f:\\anaconda3\\lib\\site-packages (from transformers>=4.33.1->kaggle-environments) (3.9.0)\n",
      "Requirement already satisfied: huggingface-hub<1.0,>=0.16.4 in f:\\anaconda3\\lib\\site-packages (from transformers>=4.33.1->kaggle-environments) (0.17.3)\n",
      "Requirement already satisfied: packaging>=20.0 in f:\\anaconda3\\lib\\site-packages (from transformers>=4.33.1->kaggle-environments) (23.0)\n",
      "Requirement already satisfied: pyyaml>=5.1 in f:\\anaconda3\\lib\\site-packages (from transformers>=4.33.1->kaggle-environments) (6.0)\n",
      "Requirement already satisfied: regex!=2019.12.17 in f:\\anaconda3\\lib\\site-packages (from transformers>=4.33.1->kaggle-environments) (2022.7.9)\n",
      "Requirement already satisfied: tokenizers<0.15,>=0.14 in f:\\anaconda3\\lib\\site-packages (from transformers>=4.33.1->kaggle-environments) (0.14.1)\n",
      "Requirement already satisfied: safetensors>=0.3.1 in f:\\anaconda3\\lib\\site-packages (from transformers>=4.33.1->kaggle-environments) (0.4.0)\n",
      "Requirement already satisfied: tqdm>=4.27 in f:\\anaconda3\\lib\\site-packages (from transformers>=4.33.1->kaggle-environments) (4.65.0)\n",
      "Requirement already satisfied: colorama in f:\\anaconda3\\lib\\site-packages (from click>=8.0->Flask>=1.1.2->kaggle-environments) (0.4.6)\n",
      "Requirement already satisfied: fsspec in f:\\anaconda3\\lib\\site-packages (from huggingface-hub<1.0,>=0.16.4->transformers>=4.33.1->kaggle-environments) (2023.3.0)\n",
      "Requirement already satisfied: MarkupSafe>=2.0 in f:\\anaconda3\\lib\\site-packages (from Jinja2>=3.0->Flask>=1.1.2->kaggle-environments) (2.1.1)\n",
      "Requirement already satisfied: sympy in f:\\anaconda3\\lib\\site-packages (from torch>=1.13->stable-baselines3==2.1.0->kaggle-environments) (1.11.1)\n",
      "Requirement already satisfied: networkx in f:\\anaconda3\\lib\\site-packages (from torch>=1.13->stable-baselines3==2.1.0->kaggle-environments) (3.1)\n",
      "Requirement already satisfied: contourpy>=1.0.1 in f:\\anaconda3\\lib\\site-packages (from matplotlib->stable-baselines3==2.1.0->kaggle-environments) (1.0.5)\n",
      "Requirement already satisfied: cycler>=0.10 in f:\\anaconda3\\lib\\site-packages (from matplotlib->stable-baselines3==2.1.0->kaggle-environments) (0.11.0)\n",
      "Requirement already satisfied: fonttools>=4.22.0 in f:\\anaconda3\\lib\\site-packages (from matplotlib->stable-baselines3==2.1.0->kaggle-environments) (4.25.0)\n",
      "Requirement already satisfied: kiwisolver>=1.0.1 in f:\\anaconda3\\lib\\site-packages (from matplotlib->stable-baselines3==2.1.0->kaggle-environments) (1.4.4)\n",
      "Requirement already satisfied: pillow>=6.2.0 in f:\\anaconda3\\lib\\site-packages (from matplotlib->stable-baselines3==2.1.0->kaggle-environments) (9.4.0)\n",
      "Requirement already satisfied: pyparsing>=2.3.1 in f:\\anaconda3\\lib\\site-packages (from matplotlib->stable-baselines3==2.1.0->kaggle-environments) (3.0.9)\n",
      "Requirement already satisfied: python-dateutil>=2.7 in f:\\anaconda3\\lib\\site-packages (from matplotlib->stable-baselines3==2.1.0->kaggle-environments) (2.8.2)\n",
      "Requirement already satisfied: pytz>=2020.1 in f:\\anaconda3\\lib\\site-packages (from pandas->stable-baselines3==2.1.0->kaggle-environments) (2022.7)\n",
      "Requirement already satisfied: six>=1.5 in f:\\anaconda3\\lib\\site-packages (from python-dateutil>=2.7->matplotlib->stable-baselines3==2.1.0->kaggle-environments) (1.16.0)\n",
      "Requirement already satisfied: mpmath>=0.19 in f:\\anaconda3\\lib\\site-packages (from sympy->torch>=1.13->stable-baselines3==2.1.0->kaggle-environments) (1.3.0)\n"
     ]
    }
   ],
   "source": [
    "!pip install kaggle-environments"
   ]
  },
  {
   "cell_type": "code",
   "execution_count": null,
   "id": "64b4792d",
   "metadata": {
    "execution": {
     "iopub.execute_input": "2022-04-13T21:23:57.730832Z",
     "iopub.status.busy": "2022-04-13T21:23:57.730294Z",
     "iopub.status.idle": "2022-04-13T21:23:57.932921Z",
     "shell.execute_reply": "2022-04-13T21:23:57.932238Z",
     "shell.execute_reply.started": "2022-04-13T21:17:17.132493Z"
    },
    "papermill": {
     "duration": 0.226052,
     "end_time": "2022-04-13T21:23:57.933066",
     "exception": false,
     "start_time": "2022-04-13T21:23:57.707014",
     "status": "completed"
    },
    "tags": []
   },
   "outputs": [
    {
     "name": "stdout",
     "output_type": "stream",
     "text": [
      "kore_fleets 1.2.0\n"
     ]
    }
   ],
   "source": [
    "from kaggle_environments import make\n",
    "env = make(\"kore_fleets\", debug=True)\n",
    "print(env.name, env.version)"
   ]
  },
  {
   "cell_type": "code",
   "execution_count": null,
   "id": "e4bdc690",
   "metadata": {
    "execution": {
     "iopub.execute_input": "2022-04-13T21:23:57.974108Z",
     "iopub.status.busy": "2022-04-13T21:23:57.973474Z",
     "iopub.status.idle": "2022-04-13T21:26:56.589673Z",
     "shell.execute_reply": "2022-04-13T21:26:55.733942Z"
    },
    "papermill": {
     "duration": 178.638602,
     "end_time": "2022-04-13T21:26:56.589860",
     "exception": false,
     "start_time": "2022-04-13T21:23:57.951258",
     "status": "completed"
    },
    "tags": []
   },
   "outputs": [
    {
     "ename": "FileNotFoundError",
     "evalue": "Could not find : /kaggle/working/main.py",
     "output_type": "error",
     "traceback": [
      "\u001b[1;31m---------------------------------------------------------------------------\u001b[0m",
      "\u001b[1;31mFileNotFoundError\u001b[0m                         Traceback (most recent call last)",
      "\u001b[1;32md:\\大三上学习资料\\人工智能\\大作业\\AI-Final-Homework-Fudan-2023Fall\\第二阶段\\Kore_曾经的幻想\\太空采矿参考代码\\kore-starter-6th-in-beta-rule-based-agent.ipynb 单元格 16\u001b[0m line \u001b[0;36m2\n\u001b[0;32m      <a href='vscode-notebook-cell:/d%3A/%E5%A4%A7%E4%B8%89%E4%B8%8A%E5%AD%A6%E4%B9%A0%E8%B5%84%E6%96%99/%E4%BA%BA%E5%B7%A5%E6%99%BA%E8%83%BD/%E5%A4%A7%E4%BD%9C%E4%B8%9A/AI-Final-Homework-Fudan-2023Fall/%E7%AC%AC%E4%BA%8C%E9%98%B6%E6%AE%B5/Kore_%E6%9B%BE%E7%BB%8F%E7%9A%84%E5%B9%BB%E6%83%B3/%E5%A4%AA%E7%A9%BA%E9%87%87%E7%9F%BF%E5%8F%82%E8%80%83%E4%BB%A3%E7%A0%81/kore-starter-6th-in-beta-rule-based-agent.ipynb#X21sZmlsZQ%3D%3D?line=0'>1</a>\u001b[0m \u001b[39mfrom\u001b[39;00m \u001b[39mkaggle_environments\u001b[39;00m\u001b[39m.\u001b[39;00m\u001b[39menvs\u001b[39;00m\u001b[39m.\u001b[39;00m\u001b[39mkore_fleets\u001b[39;00m\u001b[39m.\u001b[39;00m\u001b[39mstarter_bots\u001b[39;00m\u001b[39m.\u001b[39;00m\u001b[39mpython\u001b[39;00m\u001b[39m.\u001b[39;00m\u001b[39mmain\u001b[39;00m \u001b[39mimport\u001b[39;00m agent\n\u001b[1;32m----> <a href='vscode-notebook-cell:/d%3A/%E5%A4%A7%E4%B8%89%E4%B8%8A%E5%AD%A6%E4%B9%A0%E8%B5%84%E6%96%99/%E4%BA%BA%E5%B7%A5%E6%99%BA%E8%83%BD/%E5%A4%A7%E4%BD%9C%E4%B8%9A/AI-Final-Homework-Fudan-2023Fall/%E7%AC%AC%E4%BA%8C%E9%98%B6%E6%AE%B5/Kore_%E6%9B%BE%E7%BB%8F%E7%9A%84%E5%B9%BB%E6%83%B3/%E5%A4%AA%E7%A9%BA%E9%87%87%E7%9F%BF%E5%8F%82%E8%80%83%E4%BB%A3%E7%A0%81/kore-starter-6th-in-beta-rule-based-agent.ipynb#X21sZmlsZQ%3D%3D?line=1'>2</a>\u001b[0m env\u001b[39m.\u001b[39mrun([agent, \u001b[39m\"\u001b[39m\u001b[39m/kaggle/working/main.py\u001b[39m\u001b[39m\"\u001b[39m])\n\u001b[0;32m      <a href='vscode-notebook-cell:/d%3A/%E5%A4%A7%E4%B8%89%E4%B8%8A%E5%AD%A6%E4%B9%A0%E8%B5%84%E6%96%99/%E4%BA%BA%E5%B7%A5%E6%99%BA%E8%83%BD/%E5%A4%A7%E4%BD%9C%E4%B8%9A/AI-Final-Homework-Fudan-2023Fall/%E7%AC%AC%E4%BA%8C%E9%98%B6%E6%AE%B5/Kore_%E6%9B%BE%E7%BB%8F%E7%9A%84%E5%B9%BB%E6%83%B3/%E5%A4%AA%E7%A9%BA%E9%87%87%E7%9F%BF%E5%8F%82%E8%80%83%E4%BB%A3%E7%A0%81/kore-starter-6th-in-beta-rule-based-agent.ipynb#X21sZmlsZQ%3D%3D?line=2'>3</a>\u001b[0m env\u001b[39m.\u001b[39mrender(mode\u001b[39m=\u001b[39m\u001b[39m\"\u001b[39m\u001b[39mipython\u001b[39m\u001b[39m\"\u001b[39m, width\u001b[39m=\u001b[39m\u001b[39m1000\u001b[39m, height\u001b[39m=\u001b[39m\u001b[39m800\u001b[39m)\n",
      "File \u001b[1;32mf:\\anaconda3\\Lib\\site-packages\\kaggle_environments\\core.py:264\u001b[0m, in \u001b[0;36mEnvironment.run\u001b[1;34m(self, agents)\u001b[0m\n\u001b[0;32m    260\u001b[0m \u001b[39mif\u001b[39;00m \u001b[39mlen\u001b[39m(\u001b[39mself\u001b[39m\u001b[39m.\u001b[39mstate) \u001b[39m!=\u001b[39m \u001b[39mlen\u001b[39m(agents):\n\u001b[0;32m    261\u001b[0m     \u001b[39mraise\u001b[39;00m InvalidArgument(\n\u001b[0;32m    262\u001b[0m         \u001b[39mf\u001b[39m\u001b[39m\"\u001b[39m\u001b[39m{\u001b[39;00m\u001b[39mlen\u001b[39m(\u001b[39mself\u001b[39m\u001b[39m.\u001b[39mstate)\u001b[39m}\u001b[39;00m\u001b[39m agents were expected, but \u001b[39m\u001b[39m{\u001b[39;00m\u001b[39mlen\u001b[39m(agents)\u001b[39m}\u001b[39;00m\u001b[39m was given.\u001b[39m\u001b[39m\"\u001b[39m)\n\u001b[1;32m--> 264\u001b[0m runner \u001b[39m=\u001b[39m \u001b[39mself\u001b[39m\u001b[39m.\u001b[39m__agent_runner(agents)\n\u001b[0;32m    265\u001b[0m start \u001b[39m=\u001b[39m perf_counter()\n\u001b[0;32m    266\u001b[0m \u001b[39mwhile\u001b[39;00m \u001b[39mnot\u001b[39;00m \u001b[39mself\u001b[39m\u001b[39m.\u001b[39mdone \u001b[39mand\u001b[39;00m perf_counter() \u001b[39m-\u001b[39m start \u001b[39m<\u001b[39m \u001b[39mself\u001b[39m\u001b[39m.\u001b[39mconfiguration\u001b[39m.\u001b[39mrunTimeout:\n",
      "File \u001b[1;32mf:\\anaconda3\\Lib\\site-packages\\kaggle_environments\\core.py:670\u001b[0m, in \u001b[0;36mEnvironment.__agent_runner\u001b[1;34m(self, agents)\u001b[0m\n\u001b[0;32m    668\u001b[0m \u001b[39mdef\u001b[39;00m \u001b[39m__agent_runner\u001b[39m(\u001b[39mself\u001b[39m, agents):\n\u001b[0;32m    669\u001b[0m     \u001b[39m# Generate the agents.\u001b[39;00m\n\u001b[1;32m--> 670\u001b[0m     agents \u001b[39m=\u001b[39m [\n\u001b[0;32m    671\u001b[0m         Agent(agent, \u001b[39mself\u001b[39m)\n\u001b[0;32m    672\u001b[0m         \u001b[39mif\u001b[39;00m agent \u001b[39mis\u001b[39;00m \u001b[39mnot\u001b[39;00m \u001b[39mNone\u001b[39;00m\n\u001b[0;32m    673\u001b[0m         \u001b[39melse\u001b[39;00m \u001b[39mNone\u001b[39;00m\n\u001b[0;32m    674\u001b[0m         \u001b[39mfor\u001b[39;00m agent \u001b[39min\u001b[39;00m agents\n\u001b[0;32m    675\u001b[0m     ]\n\u001b[0;32m    677\u001b[0m     \u001b[39mdef\u001b[39;00m \u001b[39mact\u001b[39m(none_action\u001b[39m=\u001b[39m\u001b[39mNone\u001b[39;00m):\n\u001b[0;32m    678\u001b[0m         \u001b[39mif\u001b[39;00m \u001b[39mlen\u001b[39m(agents) \u001b[39m!=\u001b[39m \u001b[39mlen\u001b[39m(\u001b[39mself\u001b[39m\u001b[39m.\u001b[39mstate):\n",
      "File \u001b[1;32mf:\\anaconda3\\Lib\\site-packages\\kaggle_environments\\core.py:671\u001b[0m, in \u001b[0;36m<listcomp>\u001b[1;34m(.0)\u001b[0m\n\u001b[0;32m    668\u001b[0m \u001b[39mdef\u001b[39;00m \u001b[39m__agent_runner\u001b[39m(\u001b[39mself\u001b[39m, agents):\n\u001b[0;32m    669\u001b[0m     \u001b[39m# Generate the agents.\u001b[39;00m\n\u001b[0;32m    670\u001b[0m     agents \u001b[39m=\u001b[39m [\n\u001b[1;32m--> 671\u001b[0m         Agent(agent, \u001b[39mself\u001b[39m)\n\u001b[0;32m    672\u001b[0m         \u001b[39mif\u001b[39;00m agent \u001b[39mis\u001b[39;00m \u001b[39mnot\u001b[39;00m \u001b[39mNone\u001b[39;00m\n\u001b[0;32m    673\u001b[0m         \u001b[39melse\u001b[39;00m \u001b[39mNone\u001b[39;00m\n\u001b[0;32m    674\u001b[0m         \u001b[39mfor\u001b[39;00m agent \u001b[39min\u001b[39;00m agents\n\u001b[0;32m    675\u001b[0m     ]\n\u001b[0;32m    677\u001b[0m     \u001b[39mdef\u001b[39;00m \u001b[39mact\u001b[39m(none_action\u001b[39m=\u001b[39m\u001b[39mNone\u001b[39;00m):\n\u001b[0;32m    678\u001b[0m         \u001b[39mif\u001b[39;00m \u001b[39mlen\u001b[39m(agents) \u001b[39m!=\u001b[39m \u001b[39mlen\u001b[39m(\u001b[39mself\u001b[39m\u001b[39m.\u001b[39mstate):\n",
      "File \u001b[1;32mf:\\anaconda3\\Lib\\site-packages\\kaggle_environments\\agent.py:143\u001b[0m, in \u001b[0;36mAgent.__init__\u001b[1;34m(self, raw, environment)\u001b[0m\n\u001b[0;32m    141\u001b[0m \u001b[39mself\u001b[39m\u001b[39m.\u001b[39menvironment_name \u001b[39m=\u001b[39m environment\u001b[39m.\u001b[39mname\n\u001b[0;32m    142\u001b[0m \u001b[39mself\u001b[39m\u001b[39m.\u001b[39mraw \u001b[39m=\u001b[39m raw\n\u001b[1;32m--> 143\u001b[0m \u001b[39mself\u001b[39m\u001b[39m.\u001b[39magent, \u001b[39mself\u001b[39m\u001b[39m.\u001b[39mis_parallelizable \u001b[39m=\u001b[39m build_agent(\u001b[39mself\u001b[39m\u001b[39m.\u001b[39mraw, \u001b[39mself\u001b[39m\u001b[39m.\u001b[39mbuiltin_agents, \u001b[39mself\u001b[39m\u001b[39m.\u001b[39menvironment_name)\n",
      "File \u001b[1;32mf:\\anaconda3\\Lib\\site-packages\\kaggle_environments\\agent.py:117\u001b[0m, in \u001b[0;36mbuild_agent\u001b[1;34m(raw, builtin_agents, environment_name)\u001b[0m\n\u001b[0;32m    115\u001b[0m     raw_agent \u001b[39m=\u001b[39m read_file(raw, raw)\n\u001b[0;32m    116\u001b[0m \u001b[39melif\u001b[39;00m (\u001b[39mlen\u001b[39m(raw) \u001b[39m<\u001b[39m \u001b[39m100\u001b[39m \u001b[39mand\u001b[39;00m (\u001b[39m\"\u001b[39m\u001b[39m/\u001b[39m\u001b[39m\"\u001b[39m \u001b[39min\u001b[39;00m raw \u001b[39mor\u001b[39;00m \u001b[39m\"\u001b[39m\u001b[39m\\\\\u001b[39;00m\u001b[39m\"\u001b[39m \u001b[39min\u001b[39;00m raw)) \u001b[39mor\u001b[39;00m raw \u001b[39m<\u001b[39m \u001b[39m20\u001b[39m:\n\u001b[1;32m--> 117\u001b[0m     \u001b[39mraise\u001b[39;00m \u001b[39mFileNotFoundError\u001b[39;00m(\u001b[39m\"\u001b[39m\u001b[39mCould not find : \u001b[39m\u001b[39m\"\u001b[39m \u001b[39m+\u001b[39m raw)\n\u001b[0;32m    119\u001b[0m \u001b[39m# Attempt to execute the last callable or just return the string.\u001b[39;00m\n\u001b[0;32m    120\u001b[0m agent \u001b[39m=\u001b[39m \u001b[39mNone\u001b[39;00m\n",
      "\u001b[1;31mFileNotFoundError\u001b[0m: Could not find : /kaggle/working/main.py"
     ]
    }
   ],
   "source": [
    "from kaggle_environments.envs.kore_fleets.starter_bots.python.main import agent\n",
    "env.run([agent, \"/kaggle/working/main.py\"])\n",
    "env.render(mode=\"ipython\", width=1000, height=800)"
   ]
  },
  {
   "cell_type": "markdown",
   "id": "2cc86049",
   "metadata": {
    "papermill": {
     "duration": 0.695243,
     "end_time": "2022-04-13T21:26:57.971871",
     "exception": false,
     "start_time": "2022-04-13T21:26:57.276628",
     "status": "completed"
    },
    "tags": []
   },
   "source": [
    "### Submission"
   ]
  },
  {
   "cell_type": "code",
   "execution_count": null,
   "id": "26193682",
   "metadata": {
    "execution": {
     "iopub.execute_input": "2022-04-13T21:26:59.323606Z",
     "iopub.status.busy": "2022-04-13T21:26:59.322926Z",
     "iopub.status.idle": "2022-04-13T21:26:59.845600Z",
     "shell.execute_reply": "2022-04-13T21:26:59.844901Z",
     "shell.execute_reply.started": "2022-04-13T21:07:11.164751Z"
    },
    "papermill": {
     "duration": 1.206348,
     "end_time": "2022-04-13T21:26:59.845752",
     "exception": false,
     "start_time": "2022-04-13T21:26:58.639404",
     "status": "completed"
    },
    "tags": []
   },
   "outputs": [],
   "source": [
    "!tar -czf submission.tar.gz *"
   ]
  }
 ],
 "metadata": {
  "kernelspec": {
   "display_name": "Python 3",
   "language": "python",
   "name": "python3"
  },
  "language_info": {
   "codemirror_mode": {
    "name": "ipython",
    "version": 3
   },
   "file_extension": ".py",
   "mimetype": "text/x-python",
   "name": "python",
   "nbconvert_exporter": "python",
   "pygments_lexer": "ipython3",
   "version": "3.11.4"
  },
  "papermill": {
   "default_parameters": {},
   "duration": 210.070708,
   "end_time": "2022-04-13T21:27:01.540707",
   "environment_variables": {},
   "exception": null,
   "input_path": "__notebook__.ipynb",
   "output_path": "__notebook__.ipynb",
   "parameters": {},
   "start_time": "2022-04-13T21:23:31.469999",
   "version": "2.3.3"
  }
 },
 "nbformat": 4,
 "nbformat_minor": 5
}
